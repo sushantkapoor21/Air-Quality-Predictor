{
 "cells": [
  {
   "cell_type": "code",
   "execution_count": 1,
   "metadata": {},
   "outputs": [],
   "source": [
    "import numpy as np\n",
    "import pandas as pd\n",
    "import matplotlib.pyplot as plt"
   ]
  },
  {
   "cell_type": "code",
   "execution_count": 4,
   "metadata": {},
   "outputs": [
    {
     "name": "stdout",
     "output_type": "stream",
     "text": [
      "(1600, 6)\n"
     ]
    },
    {
     "data": {
      "image/png": "[encoded data removed]",
      "text/plain": [
       "<Figure size 432x288 with 1 Axes>"
      ]
     },
     "metadata": {
      "needs_background": "light"
     },
     "output_type": "display_data"
    }
   ],
   "source": [
    "df=pd.read_csv('Train.csv.txt')\n",
    "data=df.values\n",
    "print(data.shape)\n",
    "plt.scatter(data[:,0],data[:,4])\n",
    "plt.xlabel('feature_1')\n",
    "plt.ylabel('feature_5')\n",
    "plt.show()"
   ]
  },
  {
   "cell_type": "code",
   "execution_count": 174,
   "metadata": {},
   "outputs": [
    {
     "data": {
      "text/html": [
       "<div>\n",
       "<style scoped>\n",
       "    .dataframe tbody tr th:only-of-type {\n",
       "        vertical-align: middle;\n",
       "    }\n",
       "\n",
       "    .dataframe tbody tr th {\n",
       "        vertical-align: top;\n",
       "    }\n",
       "\n",
       "    .dataframe thead th {\n",
       "        text-align: right;\n",
       "    }\n",
       "</style>\n",
       "<table border=\"1\" class=\"dataframe\">\n",
       "  <thead>\n",
       "    <tr style=\"text-align: right;\">\n",
       "      <th></th>\n",
       "      <th>feature_1</th>\n",
       "      <th>feature_2</th>\n",
       "      <th>feature_3</th>\n",
       "      <th>feature_4</th>\n",
       "      <th>feature_5</th>\n",
       "      <th>target</th>\n",
       "    </tr>\n",
       "  </thead>\n",
       "  <tbody>\n",
       "    <tr>\n",
       "      <th>0</th>\n",
       "      <td>0.293416</td>\n",
       "      <td>-0.945599</td>\n",
       "      <td>-0.421105</td>\n",
       "      <td>0.406816</td>\n",
       "      <td>0.525662</td>\n",
       "      <td>-82.154667</td>\n",
       "    </tr>\n",
       "    <tr>\n",
       "      <th>1</th>\n",
       "      <td>-0.836084</td>\n",
       "      <td>-0.189228</td>\n",
       "      <td>-0.776403</td>\n",
       "      <td>-1.053831</td>\n",
       "      <td>0.597997</td>\n",
       "      <td>-48.897960</td>\n",
       "    </tr>\n",
       "  </tbody>\n",
       "</table>\n",
       "</div>"
      ],
      "text/plain": [
       "   feature_1  feature_2  feature_3  feature_4  feature_5     target\n",
       "0   0.293416  -0.945599  -0.421105   0.406816   0.525662 -82.154667\n",
       "1  -0.836084  -0.189228  -0.776403  -1.053831   0.597997 -48.897960"
      ]
     },
     "execution_count": 174,
     "metadata": {},
     "output_type": "execute_result"
    }
   ],
   "source": [
    "df.head(n=2)"
   ]
  },
  {
   "cell_type": "code",
   "execution_count": 175,
   "metadata": {},
   "outputs": [
    {
     "name": "stdout",
     "output_type": "stream",
     "text": [
      "(1600, 5) (1600,)\n",
      "(400, 5) (400,)\n"
     ]
    }
   ],
   "source": [
    "df=pd.read_csv('Train.csv.txt')\n",
    "dft=pd.read_csv('Test.csv.txt')\n",
    "x=df.values\n",
    "X=x[:,0:5]\n",
    "Y=x[:,5]\n",
    "x_test=dft.values\n",
    "X_test=x_test[:,0:5]\n",
    "Y_test=x_test[:,5]\n",
    "print(X.shape,Y.shape)\n",
    "print(X_test.shape,Y_test.shape)"
   ]
  },
  {
   "cell_type": "code",
   "execution_count": 190,
   "metadata": {},
   "outputs": [],
   "source": [
    "# Gradient Descent Algorithm\n",
    "\n",
    "def hypothesis(z,theta):\n",
    "    return theta[0]+(theta[1]*z[0])+(theta[2]*z[1])+(theta[3]*z[2])+(theta[4]*z[3])+(theta[5]*z[4])\n",
    "\n",
    "def error(X,Y,theta):\n",
    "    \n",
    "    m=X.shape[0]\n",
    "    e=0\n",
    "    for i in range(m):\n",
    "        hx=hypothesis(X[i],theta)\n",
    "        e+=(Y[i]-hx)**2\n",
    "    return e*0.5\n",
    "\n",
    "def batch_gradient(X,Y,theta,batch_size=5):\n",
    "    \n",
    "    m=X.shape[0]\n",
    "    n=X.shape[1]\n",
    "    indices=np.arange(m)\n",
    "    np.random.shuffle(indices)\n",
    "    indices=indices[:batch_size]\n",
    "    grad=np.zeros((6,))\n",
    "    grad_not=np.array([0.0])\n",
    "    \n",
    "    for i in indices:\n",
    "        grad_not[0]+=(hypothesis(X[i],theta)-Y[i])\n",
    "        for j in range(5):\n",
    "            hx=hypothesis(X[i],theta)\n",
    "            grad[j]+=(hx-Y[i])*X[i,j]\n",
    "    return np.append(grad_not,grad)\n",
    "\n",
    "def gradientDescent(X,Y,learning_rate=0.001):\n",
    "    \n",
    "    theta=np.zeros((6,))\n",
    "    itr=0\n",
    "    e=0\n",
    "    error_list=[]\n",
    "    \n",
    "    while(itr<=900):\n",
    "        grad=batch_gradient(X,Y,theta)\n",
    "        e=error(X,Y,theta)\n",
    "        error_list.append(e)\n",
    "        for j in range(6):\n",
    "            theta[j]=theta[j]-learning_rate*grad[j]\n",
    "        itr+=1\n",
    "    return theta,error_list\n",
    "\n",
    "    \n",
    "    \n",
    "    \n",
    "    "
   ]
  },
  {
   "cell_type": "code",
   "execution_count": 191,
   "metadata": {
    "scrolled": false
   },
   "outputs": [],
   "source": [
    "final_theta,error_list=gradientDescent(X,Y)"
   ]
  },
  {
   "cell_type": "code",
   "execution_count": 192,
   "metadata": {},
   "outputs": [
    {
     "name": "stdout",
     "output_type": "stream",
     "text": [
      "[ 5.83881429 29.46399363 91.95932454  7.39624697 44.05843303  2.63932973]\n"
     ]
    }
   ],
   "source": [
    "print(final_theta)"
   ]
  },
  {
   "cell_type": "code",
   "execution_count": 193,
   "metadata": {},
   "outputs": [
    {
     "data": {
      "image/png": "[encoded data removed]",
      "text/plain": [
       "<Figure size 432x288 with 1 Axes>"
      ]
     },
     "metadata": {
      "needs_background": "light"
     },
     "output_type": "display_data"
    }
   ],
   "source": [
    "plt.plot(error_list)\n",
    "plt.show()"
   ]
  },
  {
   "cell_type": "code",
   "execution_count": 194,
   "metadata": {},
   "outputs": [
    {
     "name": "stdout",
     "output_type": "stream",
     "text": [
      "[   2  654 1332  739 1322]\n"
     ]
    }
   ],
   "source": [
    "m=X.shape[0]\n",
    "indices=np.arange(m)\n",
    "np.random.shuffle(indices)\n",
    "indices=indices[:5]\n",
    "print(indices)"
   ]
  },
  {
   "cell_type": "code",
   "execution_count": 195,
   "metadata": {},
   "outputs": [
    {
     "name": "stdout",
     "output_type": "stream",
     "text": [
      "Coefficients calculated by mini-batch:  [29.46399363 91.95932454  7.39624697 44.05843303  2.63932973]\n",
      "Intercept calculated by mini-batch:  5.838814292243195\n",
      "Coefficients calculated by sklearn [29.68187118 92.66247759  8.28062089 44.76773522  2.51916121]\n",
      "Intercept calculated by sklearn 4.990966735574959\n"
     ]
    }
   ],
   "source": [
    "from sklearn.linear_model import LinearRegression\n",
    "print('Coefficients calculated by mini-batch: ',final_theta[1:])\n",
    "print('Intercept calculated by mini-batch: ',final_theta[0])\n",
    "lr=LinearRegression()\n",
    "lr.fit(X,Y)\n",
    "print('Coefficients calculated by sklearn',lr.coef_)\n",
    "print('Intercept calculated by sklearn',lr.intercept_)"
   ]
  },
  {
   "cell_type": "code",
   "execution_count": 196,
   "metadata": {},
   "outputs": [
    {
     "name": "stdout",
     "output_type": "stream",
     "text": [
      "r2 score on training set 0.9658734832213238\n",
      "r2 score on test set 0.9689990904545636\n",
      "Accuracy calculated by sklearn 0.9660939669975616\n"
     ]
    }
   ],
   "source": [
    "from sklearn.metrics import r2_score\n",
    "y_train_predicted=np.zeros((1600,))\n",
    "m=X.shape[0]\n",
    "for i in range(m):\n",
    "    y_train_predicted[i]=hypothesis(X[i],final_theta)\n",
    "print('r2 score on training set',r2_score(Y,y_train_predicted))\n",
    "y_test_predicted=np.zeros((400,))\n",
    "n=X_test.shape[0]\n",
    "for i in range(n):\n",
    "    y_test_predicted[i]=hypothesis(X_test[i],final_theta)\n",
    "print('r2 score on test set',r2_score(Y_test,y_test_predicted))\n",
    "print('Accuracy calculated by sklearn',lr.score(X,Y))"
   ]
  },
  {
   "cell_type": "code",
   "execution_count": null,
   "metadata": {},
   "outputs": [],
   "source": []
  }
 ],
 "metadata": {
  "kernelspec": {
   "display_name": "Python 3",
   "language": "python",
   "name": "python3"
  },
  "language_info": {
   "codemirror_mode": {
    "name": "ipython",
    "version": 3
   },
   "file_extension": ".py",
   "mimetype": "text/x-python",
   "name": "python",
   "nbconvert_exporter": "python",
   "pygments_lexer": "ipython3",
   "version": "3.8.3"
  }
 },
 "nbformat": 4,
 "nbformat_minor": 4
}
